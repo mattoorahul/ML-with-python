{
 "cells": [
  {
   "cell_type": "markdown",
   "metadata": {},
   "source": [
    "# Q1"
   ]
  },
  {
   "cell_type": "code",
   "execution_count": 1,
   "metadata": {},
   "outputs": [
    {
     "name": "stdout",
     "output_type": "stream",
     "text": [
      "spam   shrubbery\n"
     ]
    }
   ],
   "source": [
    "A=\"spam\"\n",
    "B=A\n",
    "B=\"shrubbery\"\n",
    "print(A,\" \",B)"
   ]
  },
  {
   "cell_type": "markdown",
   "metadata": {},
   "source": [
    "#### variables only contain the references to the object's memory space."
   ]
  },
  {
   "cell_type": "markdown",
   "metadata": {},
   "source": [
    "# Q2"
   ]
  },
  {
   "cell_type": "code",
   "execution_count": 2,
   "metadata": {},
   "outputs": [
    {
     "name": "stdout",
     "output_type": "stream",
     "text": [
      "['shrubbery']   ['shrubbery']\n"
     ]
    }
   ],
   "source": [
    "A=[\"spam\"]\n",
    "B=A\n",
    "B[0]=\"shrubbery\"\n",
    "print(A,\" \",B)"
   ]
  },
  {
   "cell_type": "markdown",
   "metadata": {},
   "source": [
    "# Q3"
   ]
  },
  {
   "cell_type": "code",
   "execution_count": 3,
   "metadata": {},
   "outputs": [
    {
     "name": "stdout",
     "output_type": "stream",
     "text": [
      "['spam']   ['shrubbery']\n"
     ]
    }
   ],
   "source": [
    "A=[\"spam\"]\n",
    "B=A[:]\n",
    "B[0]=\"shrubbery\"\n",
    "print(A,\" \",B)"
   ]
  },
  {
   "cell_type": "markdown",
   "metadata": {},
   "source": [
    "# Q4"
   ]
  },
  {
   "cell_type": "code",
   "execution_count": 4,
   "metadata": {},
   "outputs": [
    {
     "name": "stdout",
     "output_type": "stream",
     "text": [
      "enter your name: rahul mattoo\n",
      "hello  rahul mattoo\n"
     ]
    }
   ],
   "source": [
    "name=input(\"enter your name: \")\n",
    "print(\"hello \",name)"
   ]
  },
  {
   "cell_type": "markdown",
   "metadata": {},
   "source": [
    "# Q5"
   ]
  },
  {
   "cell_type": "code",
   "execution_count": 7,
   "metadata": {},
   "outputs": [
    {
     "name": "stdout",
     "output_type": "stream",
     "text": [
      "enter the width in meters: 1\n",
      "enter the length in meters: 5\n",
      "area: 5.0 meters\n"
     ]
    }
   ],
   "source": [
    "width=float(input(\"enter the width in meters: \"))\n",
    "length=float(input(\"enter the length in meters: \"))\n",
    "area=width*length\n",
    "print(\"area:\",area,\"meters\")"
   ]
  },
  {
   "cell_type": "markdown",
   "metadata": {},
   "source": [
    "# Q6"
   ]
  },
  {
   "cell_type": "code",
   "execution_count": 10,
   "metadata": {},
   "outputs": [
    {
     "name": "stdout",
     "output_type": "stream",
     "text": [
      "enter the integer n:5\n",
      "sum of first 5 integers 15.0\n"
     ]
    }
   ],
   "source": [
    "n=int(input(\"enter the integer n:\"))\n",
    "sum=(n*(n+1))/2\n",
    "print(\"sum of first\",n,\"integers\",sum)"
   ]
  },
  {
   "cell_type": "markdown",
   "metadata": {},
   "source": [
    "# Q7"
   ]
  },
  {
   "cell_type": "code",
   "execution_count": 11,
   "metadata": {},
   "outputs": [
    {
     "name": "stdout",
     "output_type": "stream",
     "text": [
      "enter the integer a:2\n",
      "enter the integer b:3\n",
      "5\n",
      "1\n",
      "6\n",
      "0.6666666666666666\n",
      "2\n",
      "8\n"
     ]
    }
   ],
   "source": [
    "a=int(input(\"enter the integer a:\"))\n",
    "b=int(input(\"enter the integer b:\"))\n",
    "print(a+b)\n",
    "print(b-a)\n",
    "print(a*b)\n",
    "print(a/b)\n",
    "print(a%b)\n",
    "print(a**b)"
   ]
  },
  {
   "cell_type": "markdown",
   "metadata": {},
   "source": [
    "# Q8"
   ]
  },
  {
   "cell_type": "code",
   "execution_count": 12,
   "metadata": {},
   "outputs": [
    {
     "name": "stdout",
     "output_type": "stream",
     "text": [
      "enter measurement in feets:2\n",
      "enter measurement in inches:4\n",
      "equivalent measurement : 71.12 meters\n"
     ]
    }
   ],
   "source": [
    "feet=float(input(\"enter measurement in feets:\"))\n",
    "inches=float(input(\"enter measurement in inches:\"))\n",
    "sum=(2.54*inches)+(12*2.54*feet)\n",
    "print(\"equivalent measurement :\",sum,\"meters\")"
   ]
  }
 ],
 "metadata": {
  "kernelspec": {
   "display_name": "Python 3",
   "language": "python",
   "name": "python3"
  },
  "language_info": {
   "codemirror_mode": {
    "name": "ipython",
    "version": 3
   },
   "file_extension": ".py",
   "mimetype": "text/x-python",
   "name": "python",
   "nbconvert_exporter": "python",
   "pygments_lexer": "ipython3",
   "version": "3.6.5"
  }
 },
 "nbformat": 4,
 "nbformat_minor": 2
}
