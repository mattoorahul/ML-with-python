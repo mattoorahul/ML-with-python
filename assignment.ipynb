{
 "cells": [
  {
   "cell_type": "markdown",
   "metadata": {},
   "source": [
    "# Q9"
   ]
  },
  {
   "cell_type": "code",
   "execution_count": 13,
   "metadata": {},
   "outputs": [
    {
     "name": "stdout",
     "output_type": "stream",
     "text": [
      "enter first integer:6\n",
      "enter second integer:5\n",
      "enter third integer:3\n",
      "sorted list: [3, 5, 6]\n",
      "min value: 3\n",
      "middle value: 5\n",
      "max value: 6\n"
     ]
    }
   ],
   "source": [
    "a=int(input(\"enter first integer:\"))\n",
    "b=int(input(\"enter second integer:\"))\n",
    "c=int(input(\"enter third integer:\"))\n",
    "l=[a,b,c]\n",
    "l.sort()\n",
    "print(\"sorted list:\",l)\n",
    "print(\"min value:\",min(l))\n",
    "print(\"middle value:\",l[1])\n",
    "print(\"max value:\",max(l))"
   ]
  },
  {
   "cell_type": "markdown",
   "metadata": {},
   "source": [
    "# Q10"
   ]
  },
  {
   "cell_type": "code",
   "execution_count": 14,
   "metadata": {},
   "outputs": [
    {
     "name": "stdout",
     "output_type": "stream",
     "text": [
      "enter the month name:January\n",
      "31\n"
     ]
    }
   ],
   "source": [
    "month=input(\"enter the month name:\")\n",
    "D={\"January\":\"31\",\"February\":\"28 or 29\",\"March\":\"31\",\"April\":\"31\",\"June\":\"30\",\"July\":\"31\",\"August\":\"31\",\"September\":\"30\",\"October\":\"31\",\"November\":\"30\",\"December\":\"31\"}\n",
    "print(D[month])"
   ]
  },
  {
   "cell_type": "markdown",
   "metadata": {},
   "source": [
    "# Q11"
   ]
  },
  {
   "cell_type": "code",
   "execution_count": 15,
   "metadata": {},
   "outputs": [
    {
     "name": "stdout",
     "output_type": "stream",
     "text": [
      "enter the number:4\n",
      "enter the number:0\n",
      "4.0\n"
     ]
    }
   ],
   "source": [
    "a=1\n",
    "sum=0\n",
    "i=0\n",
    "while a!=0:\n",
    "    a=int(input(\"enter the number:\"))\n",
    "    sum=sum+a\n",
    "    if a==0 and i==0:\n",
    "        print(\"enter atleast one value\")\n",
    "        break\n",
    "    elif a==0:\n",
    "        break\n",
    "    else:\n",
    "        i=i+1\n",
    "average=sum/i\n",
    "print(average)"
   ]
  },
  {
   "cell_type": "markdown",
   "metadata": {},
   "source": [
    "# Q12"
   ]
  },
  {
   "cell_type": "code",
   "execution_count": 20,
   "metadata": {},
   "outputs": [
    {
     "name": "stdout",
     "output_type": "stream",
     "text": [
      "enter number:9\n",
      "iteration: 3.25\n",
      "iteration: 3.0096153846153846\n",
      "square root: 3.0096153846153846\n"
     ]
    }
   ],
   "source": [
    "x=int(input(\"enter number:\"))\n",
    "guess=x/2\n",
    "while (guess*guess-x)>=1:\n",
    "    guess=(guess+x/guess)/2\n",
    "    print(\"iteration:\",guess)\n",
    "print(\"square root:\",guess)    "
   ]
  },
  {
   "cell_type": "markdown",
   "metadata": {},
   "source": [
    "# Q13"
   ]
  },
  {
   "cell_type": "code",
   "execution_count": 21,
   "metadata": {},
   "outputs": [
    {
     "name": "stdout",
     "output_type": "stream",
     "text": [
      "enter base:3\n",
      "enter height:4\n",
      "hypotenuse: 5.0\n"
     ]
    }
   ],
   "source": [
    "import math\n",
    "b=float(input(\"enter base:\"))\n",
    "l=float(input(\"enter height:\"))\n",
    "def f(b,l):\n",
    "    h=math.sqrt(b**2+l**2)\n",
    "    return h\n",
    "print(\"hypotenuse:\",f(b,l))"
   ]
  },
  {
   "cell_type": "markdown",
   "metadata": {},
   "source": [
    "# Q14"
   ]
  },
  {
   "cell_type": "code",
   "execution_count": 22,
   "metadata": {},
   "outputs": [
    {
     "name": "stdout",
     "output_type": "stream",
     "text": [
      "enter first number:2\n",
      "enter second number:65\n",
      "enter third number:9\n",
      "median: 9.0\n"
     ]
    }
   ],
   "source": [
    "a=float(input(\"enter first number:\"))\n",
    "b=float(input(\"enter second number:\"))\n",
    "c=float(input(\"enter third number:\"))\n",
    "L=[a,b,c]\n",
    "def f(L):\n",
    "    L.sort()\n",
    "    median=L[1]\n",
    "    return median\n",
    "print(\"median:\",f(L))"
   ]
  },
  {
   "cell_type": "markdown",
   "metadata": {},
   "source": [
    "# Q15"
   ]
  },
  {
   "cell_type": "code",
   "execution_count": 12,
   "metadata": {},
   "outputs": [
    {
     "name": "stdout",
     "output_type": "stream",
     "text": [
      "enter input string:i nfg\n",
      "INfg\n"
     ]
    }
   ],
   "source": [
    "s=input(\"enter input string:\")\n",
    "l=s.split()\n",
    "j=0\n",
    "a=\"\"\n",
    "for i in l:\n",
    "    l[j]=i.capitalize()\n",
    "    j=j+1\n",
    "print(a.join(l))"
   ]
  },
  {
   "cell_type": "markdown",
   "metadata": {},
   "source": [
    "# Q16"
   ]
  },
  {
   "cell_type": "code",
   "execution_count": 53,
   "metadata": {},
   "outputs": [
    {
     "name": "stdout",
     "output_type": "stream",
     "text": [
      "AJY271\n"
     ]
    }
   ],
   "source": [
    "import random\n",
    "\n",
    "def f():\n",
    "    s={1:\"A\" , 2:\"B\" ,3: \"C\" ,4: \"D\",5: \"E\" ,6: \"F\", 7:\"G\" , 8:\"H\" , 9:\"I\",10: \"J\" ,11: \"k\" , 12:\"L\",13: \"M\", 14:'N' , 15:'O', 16:'P' , 17:\"Q\", 18:\"R\" , 19:\"S\" , 20:'T' ,21:'U',22:'V',23:'W',24:'X',25:'Y',26:'Z'}\n",
    "    \n",
    "    if random.choice([0,1]):\n",
    "        a=str(s[(random.randint(1,26))])+str(s[(random.randint(1,26))])+str(s[(random.randint(1,26))])+str(random.randint(0,999))\n",
    "    else:\n",
    "        a=str(s[(random.randint(1,26))])+str(s[(random.randint(1,26))])+str(s[(random.randint(1,26))])+str(random.randint(0,9999))\n",
    "    print(a)\n",
    "f()    \n",
    "    \n"
   ]
  },
  {
   "cell_type": "markdown",
   "metadata": {},
   "source": [
    "# Q17"
   ]
  },
  {
   "cell_type": "code",
   "execution_count": 24,
   "metadata": {},
   "outputs": [
    {
     "name": "stdout",
     "output_type": "stream",
     "text": [
      "enter the number:3\n",
      "enter the number:6\n",
      "enter the number:4\n",
      "enter the number:0\n",
      "no value entered:\n",
      "[4, 6, 3]\n"
     ]
    }
   ],
   "source": [
    "a=1\n",
    "sum=0\n",
    "i=0\n",
    "l=[]\n",
    "while a!=0:\n",
    "    a=int(input(\"enter the number:\"))\n",
    "    l.append(a)\n",
    "    if a==0 and i==0:\n",
    "        print(\"no value entered:\")\n",
    "        break\n",
    "    elif a==0:\n",
    "        break\n",
    "l.pop()\n",
    "l.reverse()\n",
    "print(l) "
   ]
  },
  {
   "cell_type": "markdown",
   "metadata": {},
   "source": [
    "# Q18\n",
    "\n",
    "1. 'w'\n",
    "2. 'g'\n",
    "3. 'hingt'\n",
    "4. 'Washington'\n",
    "5. 'H.S.'\n",
    "6. IndexError:index out of bounds\n",
    "7. 19\n",
    "8. 0\n",
    "9. [0:3]\n",
    "10. sample[len(sample)-1]\n",
    "11.     s[0]\n",
    "        s[4]\n",
    "        s[19]\n",
    "        s[10:16]\n",
    "        "
   ]
  },
  {
   "cell_type": "markdown",
   "metadata": {},
   "source": [
    "# Q19"
   ]
  },
  {
   "cell_type": "code",
   "execution_count": 29,
   "metadata": {
    "scrolled": true
   },
   "outputs": [
    {
     "name": "stdout",
     "output_type": "stream",
     "text": [
      "enter string:HELLO\n",
      "......-...-..---"
     ]
    }
   ],
   "source": [
    "xaa=input(\"enter string:\")\n",
    "s={\"A\":\".-\" , \"B\":\"-...\" , \"C\":\"-.-.\" , \"D\":\"-..\" , \"E\":\".\" , \"F\":\"..-.\" , \"G\":\"--.\" , \"H\":\"....\" , \"I\":\"..\" , \"J\":\".---\" , \"k\":\"-.-\" , \"L\":\".-..\" , \"M\":\"--\" , 'N':'-.' , 'O':'---' , 'P':'.--.' , \"Q\":\"--.-\" , \"R\":'.-.' , \"S\":\"...\" , 'T':'-' ,'U':'..-','V':'...-','W':'.--','X':'-..-','Y':'-.--','Z':'--..', 0:'-----',1:'.----',2:'..---',3:'...--',4:\"....-\",5:'.....',6:'-....',7:'--...',8:'---..',9:'----.'}\n",
    "for i in xaa:\n",
    "   print(s[i],end='')"
   ]
  },
  {
   "cell_type": "markdown",
   "metadata": {},
   "source": [
    "# Q20"
   ]
  },
  {
   "cell_type": "code",
   "execution_count": 4,
   "metadata": {},
   "outputs": [
    {
     "name": "stdout",
     "output_type": "stream",
     "text": [
      "enter string:CASNLSSSSLLL\n",
      "A\n",
      "C\n",
      "N\n"
     ]
    }
   ],
   "source": [
    "xaa=input(\"enter string:\")\n",
    "s={\"A\":0 , \"B\":0 , \"C\":0 , \"D\":0 , \"E\":0 , \"F\":0 , \"G\":0 , \"H\":0 , \"I\":0 , \"J\":0 , \"k\":0 , \"L\":0, \"M\":0, 'N':0 , 'O':0 , 'P':0 , \"Q\":0, \"R\":0 , \"S\":0 , 'T':0 ,'U':0,'V':0,'W':0,'X':0,'Y':0,'Z':0 , 0:0,1:0,2:0,3:0,4:0,5:0,6:0,7:0,8:0,9:0}\n",
    "for i in xaa:\n",
    "   s[i]+=1\n",
    "for i in s.keys():\n",
    "   if(s[i]==1):\n",
    "      print(i)\n"
   ]
  },
  {
   "cell_type": "markdown",
   "metadata": {},
   "source": [
    "# Q22"
   ]
  },
  {
   "cell_type": "code",
   "execution_count": 60,
   "metadata": {},
   "outputs": [
    {
     "name": "stdout",
     "output_type": "stream",
     "text": [
      "enter string:csdagvfew\n",
      "enter terminal width:12\n",
      "|csdagvfew|"
     ]
    }
   ],
   "source": [
    "inp=input(\"enter string:\")\n",
    "w=int(input(\"enter terminal width:\"))\n",
    "\n",
    "def f(inp,w):\n",
    "    x=int((w-len(inp))/2)\n",
    "    print('|',sep='',end='')\n",
    "    for i in range(1,x):\n",
    "        print(' ',sep='',end='')\n",
    "    print(inp,sep='',end='') \n",
    "    for i in range(1,x):\n",
    "        print(' ',sep='',end='')    \n",
    "    print('|',sep='',end='')\n",
    "f(inp,w)    "
   ]
  },
  {
   "cell_type": "markdown",
   "metadata": {},
   "source": [
    "# Q23"
   ]
  },
  {
   "cell_type": "code",
   "execution_count": 20,
   "metadata": {},
   "outputs": [
    {
     "name": "stdout",
     "output_type": "stream",
     "text": [
      "enter string:-19\n",
      "- 19\n"
     ]
    }
   ],
   "source": [
    "def isInteger(a):\n",
    "    k=0\n",
    "    for i in a:\n",
    "        if i==' ' :\n",
    "            a=a[k+1:]\n",
    "            k+=1\n",
    "        if i==\"+\" or i==\"-\":\n",
    "            b=a[k]\n",
    "            a=a[k+1:]\n",
    "            k+=1\n",
    "    if a.isdigit():\n",
    "        print(b,int(a))\n",
    "        \n",
    "a=input(\"enter string:\")\n",
    "isInteger(a)"
   ]
  },
  {
   "cell_type": "markdown",
   "metadata": {},
   "source": [
    "# Q24"
   ]
  },
  {
   "cell_type": "code",
   "execution_count": 28,
   "metadata": {},
   "outputs": [
    {
     "name": "stdout",
     "output_type": "stream",
     "text": [
      "enter integer:5\n",
      "prime: True\n"
     ]
    }
   ],
   "source": [
    "def f(n):\n",
    "    count=0\n",
    "    for i in range(1,n):\n",
    "        if(n%i==0):\n",
    "            count+=1\n",
    "    if count==2:\n",
    "        return False\n",
    "    else:\n",
    "        return True\n",
    "n=int(input(\"enter integer:\"))\n",
    "print(\"prime:\",f(n))\n",
    "        "
   ]
  },
  {
   "cell_type": "markdown",
   "metadata": {},
   "source": [
    "# Q25"
   ]
  },
  {
   "cell_type": "code",
   "execution_count": 30,
   "metadata": {
    "scrolled": true
   },
   "outputs": [
    {
     "name": "stdout",
     "output_type": "stream",
     "text": [
      "enter the month :mm:2\n",
      "enter the year:yyyy:2000\n"
     ]
    },
    {
     "data": {
      "text/plain": [
       "29"
      ]
     },
     "execution_count": 30,
     "metadata": {},
     "output_type": "execute_result"
    }
   ],
   "source": [
    "month=int(input(\"enter the month :mm:\"))\n",
    "year=int(input(\"enter the year:yyyy:\"))\n",
    "\n",
    "def f(month,year):\n",
    "      D={1:31,2:{\"leap\":29,\"nonleap\":28}, 3:31,4:31,5:30,6:30,7:31,8:31,9:30,10:31,11:30,12:31}\n",
    "      if(year%4==0):\n",
    "        s=\"leap\"\n",
    "        if month==2:\n",
    "            return D[month][s]\n",
    "        else:\n",
    "            return D[month]\n",
    "      else: \n",
    "        s=\"nonleap\"\n",
    "        if month==2:\n",
    "            return D[month][s]\n",
    "        else:\n",
    "            return D[month]\n",
    "f(month,year)        "
   ]
  }
 ],
 "metadata": {
  "kernelspec": {
   "display_name": "Python 3",
   "language": "python",
   "name": "python3"
  },
  "language_info": {
   "codemirror_mode": {
    "name": "ipython",
    "version": 3
   },
   "file_extension": ".py",
   "mimetype": "text/x-python",
   "name": "python",
   "nbconvert_exporter": "python",
   "pygments_lexer": "ipython3",
   "version": "3.6.5"
  }
 },
 "nbformat": 4,
 "nbformat_minor": 2
}
